{
 "cells": [
  {
   "cell_type": "markdown",
   "metadata": {},
   "source": [
    "### Exercise 2a"
   ]
  },
  {
   "cell_type": "markdown",
   "metadata": {},
   "source": [
    "#### Task 1"
   ]
  },
  {
   "cell_type": "markdown",
   "metadata": {},
   "source": [
    "**Improve the recognition accuracy manually by changing some of the parameters of the\n",
    "‘Exercise_train_test.py’ code. Modify the layer sizes (excluding the input and output\n",
    "sizes), batch size etc.**"
   ]
  },
  {
   "attachments": {
    "image.png": {
     "image/png": "[encoded data removed]"
    }
   },
   "cell_type": "markdown",
   "metadata": {},
   "source": [
    "Below is copy of the model from the Exercise_train_test.py. Accuracy has increased from 89% to 90.5%. This is a small improvement. \n",
    "\n",
    "![image.png](attachment:image.png)"
   ]
  },
  {
   "cell_type": "markdown",
   "metadata": {},
   "source": [
    "Changes to model:\n",
    "\n",
    "```num_units: 700 -> 300```\n",
    "\n",
    "```num_units1: 1000 -> 700```\n",
    "\n",
    "New layer with size\n",
    "\n",
    "```num_units2 = 500```\n",
    "\n",
    "Smaller layer sizes result in faster training time and has advantage for learning patterns. Large layers may result in overfitting for our relatively small dataset (930 x 200). Also previous dense layer is removed, which input and output size are the same.\n",
    "\n",
    "```self.dense1 = nn.Linear(num_units, num_units)``` \n",
    "\n",
    "\n",
    "Nonlinear activation function changed from Relu to leaky_relu. This reduces the amount of dead neurons in the model, which are constantly outputting zero. Basicly it works in the same way as Relu but for negative input is never a zero.\n",
    "\n",
    "Size of 5 is relatively small, and it is increased from 5 to 16, which gives better approximation for the gradients since it is averaged on more samples."
   ]
  },
  {
   "cell_type": "code",
   "execution_count": null,
   "metadata": {},
   "outputs": [],
   "source": [
    "class classifier_selfmade_network(nn.Module):\n",
    "    def __init__(\n",
    "            self,\n",
    "            inp_units=3*69, #heart rate, speed and altitude data\n",
    "            num_units=300,   #hidden units\n",
    "            num_units1=700,   #hidden units\n",
    "            num_units2=500,   #hidden units\n",
    "            out_units=3,    #classification 0, 1 or 2\n",
    "            nonlin=F.leaky_relu,  #this is the activation function that restrict the \n",
    "                               #output values of the each neuron in the layer\n",
    "            nonlin1=F.leaky_relu,  #this is the activation function that restrict the \n",
    "                               #output values of the each neuron in the layer\n",
    "            nonlin2=F.leaky_relu,  #this is the activation function that restrict the \n",
    "                               #output values of the each neuron in the layer\n",
    "    ):\n",
    "        super(classifier_selfmade_network, self).__init__()\n",
    "        #introducing the variables to 'self' structure\n",
    "        self.num_units = num_units\n",
    "        self.num_units1 = num_units1\n",
    "        self.num_units2 = num_units2\n",
    "        self.nonlin = nonlin\n",
    "        self.nonlin1 = nonlin1\n",
    "        self.nonlin2 = nonlin2\n",
    "        # the next shows how the data is flowing through the layers\n",
    "        self.dense0 = nn.Linear(inp_units, num_units)\n",
    "        self.dense1 = nn.Linear(num_units, num_units)    \n",
    "        self.dense2 = nn.Linear(num_units, num_units1) \n",
    "        self.dense3 = nn.Linear(num_units1, num_units2) \n",
    "        self.output = nn.Linear(num_units2, out_units)\n",
    "\n",
    "    def forward(self, X, **kwargs):         #forward flow\n",
    "        X = self.nonlin(self.dense0(X))\n",
    "        X = self.nonlin1(self.dense1(X))\n",
    "        X = self.nonlin2(self.dense2(X))\n",
    "        X = self.nonlin1(self.dense3(X))\n",
    "        X = self.output(X)\n",
    "        return X"
   ]
  }
 ],
 "metadata": {
  "kernelspec": {
   "display_name": "myenv",
   "language": "python",
   "name": "python3"
  },
  "language_info": {
   "codemirror_mode": {
    "name": "ipython",
    "version": 3
   },
   "file_extension": ".py",
   "mimetype": "text/x-python",
   "name": "python",
   "nbconvert_exporter": "python",
   "pygments_lexer": "ipython3",
   "version": "3.12.0"
  }
 },
 "nbformat": 4,
 "nbformat_minor": 2
}
